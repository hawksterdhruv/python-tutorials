{
 "cells": [
  {
   "cell_type": "markdown",
   "metadata": {},
   "source": [
    "# Argparse\n",
    " \n",
    "It is the recommended command-line parsing module in the Python standard library.\n",
    "\n",
    "The argparse module also automatically generates help and usage messages and issues errors when users give the program invalid arguments."
   ]
  },
  {
   "cell_type": "code",
   "execution_count": null,
   "metadata": {
    "scrolled": true
   },
   "outputs": [],
   "source": [
    "import argparse\n",
    "\n",
    "parser = argparse.ArgumentParser()\n",
    "parser.parse_args()\n",
    "\n"
   ]
  },
  {
   "cell_type": "markdown",
   "metadata": {},
   "source": [
    " ### 1. Creating a parser\n",
    "\n",
    "The first step in using the argparse is creating an ArgumentParser object.\n",
    "##### class argparse.ArgumentParser(prog=None,  usage=None,  description=None,  epilog=None,  parents=[], formatter_class=argparse.HelpFormatter,  prefix_chars='-',  fromfile_prefix_chars=None,  argument_default=None, conflict_handler='error',  add_help=True)\n",
    "\n",
    "\n",
    " ### 2. Adding arguments\n",
    "\n",
    "Filling an ArgumentParser with information about program arguments is done by making calls to the add_argument() method. Generally, these calls tell the ArgumentParser how to take the strings on the command line and turn them into objects. This information is stored and used when parse_args() is called.\n",
    "##### ArgumentParser.add_argument(name or flags...[, action][, nargs][, const][, default][, type][, choices][, required][, help][, metavar][, dest])\n",
    "\n",
    "\n",
    " ### 3. Parsing arguments\n",
    "\n",
    "ArgumentParser parses arguments through the parse_args() method. This will inspect the command line, convert each argument to the appropriate type and then invoke the appropriate action.\n",
    "##### ArgumentParser.parse_args(args=None, namespace=None)\n"
   ]
  },
  {
   "cell_type": "code",
   "execution_count": null,
   "metadata": {},
   "outputs": [],
   "source": [
    "# Positional Arguments\n",
    "import argparse\n",
    "\n",
    "parser = argparse.ArgumentParser()\n",
    "parser.add_argument(\"string\", nargs = '*', help=\"echo the string you use here\")\n",
    "args = parser.parse_args()\n",
    "print(\"The entered string is\", args.string)"
   ]
  },
  {
   "cell_type": "code",
   "execution_count": null,
   "metadata": {},
   "outputs": [],
   "source": [
    "import argparse\n",
    "\n",
    "parser = argparse.ArgumentParser()\n",
    "parser.add_argument(\"number\", help=\"Enter the number whose square needs to be calculated\",\n",
    "        type = int)\n",
    "args = parser.parse_args()\n",
    "print(\"The square of a number is\", args.number**2)"
   ]
  },
  {
   "cell_type": "code",
   "execution_count": null,
   "metadata": {},
   "outputs": [],
   "source": [
    "import argparse \n",
    "  \n",
    "# create a parser object \n",
    "parser = argparse.ArgumentParser(description = \"An addition program\") \n",
    "  \n",
    "# add argument \n",
    "parser.add_argument(\"add\", nargs = '*', metavar = \"num\", type = int,  \n",
    "                     help = \"All the numbers separated by spaces will be added.\") \n",
    "  \n",
    "# parse the arguments from standard input \n",
    "args = parser.parse_args() \n",
    "  \n",
    "# check if add argument has any input data. \n",
    "# If it has, then print sum of the given numbers \n",
    "if len(args.add) != 0: \n",
    "    print(sum(args.add))"
   ]
  },
  {
   "cell_type": "code",
   "execution_count": null,
   "metadata": {},
   "outputs": [],
   "source": [
    "# Optional Arguments\n",
    "import argparse\n",
    "\n",
    "parser = argparse.ArgumentParser()\n",
    "parser.add_argument(\"--verbosity\", help=\"Increase Output Verbosity\")\n",
    "args = parser.parse_args()\n",
    "if args.verbosity:\n",
    "    print(\"Verbosity turned ON!\")"
   ]
  },
  {
   "cell_type": "code",
   "execution_count": null,
   "metadata": {},
   "outputs": [],
   "source": [
    "import argparse\n",
    "\n",
    "parser = argparse.ArgumentParser()\n",
    "parser.add_argument(\"--verbose\", help=\"Increase Output Verbosity\",\n",
    "        action=\"store_true\" )\n",
    "args = parser.parse_args()\n",
    "if args.verbose:\n",
    "    print(\"Verbosity turned ON!\")"
   ]
  },
  {
   "cell_type": "code",
   "execution_count": null,
   "metadata": {},
   "outputs": [],
   "source": [
    "# Short Options\n",
    "import argparse\n",
    "\n",
    "parser = argparse.ArgumentParser()\n",
    "parser.add_argument(\"-v\", \"--verbose\", help=\"increase output verbosity\",\n",
    "        action = \"store_true\")\n",
    "args = parser.parse_args()\n",
    "if args.verbose:\n",
    "    print(\"verbosity turned ON!\")"
   ]
  },
  {
   "cell_type": "code",
   "execution_count": null,
   "metadata": {},
   "outputs": [],
   "source": [
    "# Combining Positional and Optional Arguments\n",
    "import argparse\n",
    "\n",
    "parser = argparse.ArgumentParser()\n",
    "parser.add_argument(\"square\", type = int,\n",
    "        help = \"display a square of a given number\")\n",
    "parser.add_argument(\"-v\", \"--verbose\", action=\"store_true\",\n",
    "        help = \"increase output verbosity\")\n",
    "args = parser.parse_args()\n",
    "answer = args.square**2\n",
    "if args.verbose:\n",
    "    print(\"The square of {} equals {}\" .format(args.square, answer))\n",
    "else:\n",
    "    print(answer)"
   ]
  },
  {
   "cell_type": "code",
   "execution_count": null,
   "metadata": {},
   "outputs": [],
   "source": [
    "# Calculate Power of a number\n",
    "import argparse\n",
    "\n",
    "parser = argparse.ArgumentParser()\n",
    "parser.add_argument(\"x\", type=int, help=\"the base\")\n",
    "parser.add_argument(\"y\", type=int, help=\"the exponent\")\n",
    "parser.add_argument(\"-v\", \"--verbosity\", action=\"count\", default=0)\n",
    "\n",
    "args = parser.parse_args()\n",
    "answer = args.x**args.y\n",
    "if args.verbosity >= 2:\n",
    "    print(\"{} to the power {} equals {}\".format(args.x, args.y, answer))\n",
    "elif args.verbosity >= 1:\n",
    "    print(\"{}^{} == {}\".format(args.x, args.y, answer))\n",
    "else:\n",
    "    print(answer)"
   ]
  }
 ],
 "metadata": {
  "kernelspec": {
   "display_name": "Python 3",
   "language": "python",
   "name": "python3"
  },
  "language_info": {
   "codemirror_mode": {
    "name": "ipython",
    "version": 3
   },
   "file_extension": ".py",
   "mimetype": "text/x-python",
   "name": "python",
   "nbconvert_exporter": "python",
   "pygments_lexer": "ipython3",
   "version": "3.8.0"
  }
 },
 "nbformat": 4,
 "nbformat_minor": 2
}
