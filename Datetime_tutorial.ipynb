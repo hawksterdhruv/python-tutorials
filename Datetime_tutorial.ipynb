{
 "cells": [
  {
   "cell_type": "markdown",
   "metadata": {},
   "source": [
    "# datetime module\n",
    "The Python datetime module offers functions and classes for working with date and time parsing, formatting, and arithmetic.\n",
    "\n",
    "To use this module, we must first import it."
   ]
  },
  {
   "cell_type": "code",
   "execution_count": 50,
   "metadata": {},
   "outputs": [
    {
     "name": "stdout",
     "output_type": "stream",
     "text": [
      "['MAXYEAR', 'MINYEAR', '__builtins__', '__cached__', '__doc__', '__file__', '__loader__', '__name__', '__package__', '__spec__', 'date', 'datetime', 'datetime_CAPI', 'sys', 'time', 'timedelta', 'timezone', 'tzinfo']\n"
     ]
    }
   ],
   "source": [
    "# What's inside datetime?\n",
    "\n",
    "import datetime\n",
    "\n",
    "print(dir(datetime))"
   ]
  },
  {
   "cell_type": "markdown",
   "metadata": {},
   "source": [
    "The datetime module exports the following constants:\n",
    "\n",
    "datetime.MINYEAR\n",
    "The smallest year number allowed in a date or datetime object.\n",
    "\n",
    "datetime.MAXYEAR\n",
    "The largest year number allowed in a date or datetime object."
   ]
  },
  {
   "cell_type": "code",
   "execution_count": 51,
   "metadata": {},
   "outputs": [
    {
     "name": "stdout",
     "output_type": "stream",
     "text": [
      "9999\n",
      "1\n",
      "<class 'int'> <class 'int'>\n"
     ]
    }
   ],
   "source": [
    "import datetime\n",
    "\n",
    "print(datetime.MAXYEAR)\n",
    "print(datetime.MINYEAR)\n",
    "print(type(datetime.MAXYEAR), type(datetime.MINYEAR))"
   ]
  },
  {
   "cell_type": "markdown",
   "metadata": {},
   "source": [
    "# Python date objects"
   ]
  },
  {
   "cell_type": "markdown",
   "metadata": {},
   "source": [
    "A date object represents a date with year, month, and day, according to the ideal Gregorian calendar.\n",
    "\n",
    "class datetime.date(year, month, day)\n",
    "\n",
    "With a date object, we have the following methods:"
   ]
  },
  {
   "cell_type": "code",
   "execution_count": 53,
   "metadata": {},
   "outputs": [
    {
     "name": "stdout",
     "output_type": "stream",
     "text": [
      "2019-04-17\n",
      "<class 'datetime.date'>\n"
     ]
    }
   ],
   "source": [
    "# date object to represent a date\n",
    "import datetime\n",
    "\n",
    "d_obj = datetime.date(2019, 4, 17)\n",
    "print(d_obj)\n",
    "print(type(d_obj))\n"
   ]
  },
  {
   "cell_type": "code",
   "execution_count": null,
   "metadata": {},
   "outputs": [],
   "source": [
    "from datetime import date\n",
    "\n",
    "a = date(1996, 2, 10)\n",
    "print(a)"
   ]
  },
  {
   "cell_type": "code",
   "execution_count": 54,
   "metadata": {},
   "outputs": [
    {
     "name": "stdout",
     "output_type": "stream",
     "text": [
      "Current date= 2019-12-26\n"
     ]
    }
   ],
   "source": [
    "# get current date\n",
    "from datetime import date\n",
    "\n",
    "a = date.today()\n",
    "print(\"Current date=\", a)"
   ]
  },
  {
   "cell_type": "markdown",
   "metadata": {},
   "source": [
    "The date class also has these attributes:"
   ]
  },
  {
   "cell_type": "code",
   "execution_count": 48,
   "metadata": {},
   "outputs": [
    {
     "name": "stdout",
     "output_type": "stream",
     "text": [
      "Earliest date= 0001-01-01\n",
      "Latest date= 9999-12-31\n",
      "Smallest Difference= 1 day, 0:00:00\n"
     ]
    }
   ],
   "source": [
    "# date.min = It returns the earliest representable date\n",
    "# date.max = max returns the latest representable date.\n",
    "# date.resolution = resolution returns the smallest possible difference between non-equal date objects.\n",
    "\n",
    "from datetime import date\n",
    "\n",
    "print(\"Earliest date=\", date.min)\n",
    "print(\"Latest date=\", date.max)\n",
    "print(\"Smallest Difference=\", date.resolution)"
   ]
  },
  {
   "cell_type": "markdown",
   "metadata": {},
   "source": [
    "We also have the following instance attributes:"
   ]
  },
  {
   "cell_type": "code",
   "execution_count": 55,
   "metadata": {},
   "outputs": [
    {
     "name": "stdout",
     "output_type": "stream",
     "text": [
      "Current Year= 2019\n",
      "Current Month= 12\n",
      "Current Date= 26\n"
     ]
    }
   ],
   "source": [
    "# print today's year,month and day\n",
    "from datetime import date\n",
    "\n",
    "date_obj = date.today()\n",
    "print(\"Current Year=\",date_obj.year)\n",
    "print(\"Current Month=\",date_obj.month)\n",
    "print(\"Current Date=\",date_obj.day)\n"
   ]
  },
  {
   "cell_type": "markdown",
   "metadata": {},
   "source": [
    "And then, we have the following instance methods:"
   ]
  },
  {
   "cell_type": "code",
   "execution_count": 62,
   "metadata": {},
   "outputs": [
    {
     "name": "stdout",
     "output_type": "stream",
     "text": [
      "Today's date= 2019-12-26\n",
      "Modified date= 2019-11-10\n",
      "6\n",
      "7\n",
      "(2019, 45, 7)\n",
      "2019-11-10\n"
     ]
    }
   ],
   "source": [
    "from datetime import date\n",
    "\n",
    "# replace(year, month, day) = This will let us update any or all of these three values.\n",
    "date_obj = date.today()\n",
    "print(\"Today's date=\", date_obj)\n",
    "date_obj = date_obj.replace(month=11, day=10)\n",
    "print(\"Modified date=\", date_obj)\n",
    "\n",
    "# weekday() = It will return the day of the week, where 0 denotes Monday.\n",
    "print(date_obj.weekday())\n",
    "\n",
    "# isoweekday() = Here, Monday is 1\n",
    "print(date_obj.isoweekday())\n",
    "\n",
    "# isocalendar() = This method returns a tuple of three things- ISO year, ISO week number, and ISO weekday.\n",
    "print(date_obj.isocalendar())\n",
    "\n",
    "#isoformat() = This returns the date in the ISO format.\n",
    "# print(date_obj.isoformat())\n",
    "\n",
    "#__str__() = This will return the current local date as a string.\n",
    "print(date_obj.__str__())"
   ]
  },
  {
   "cell_type": "markdown",
   "metadata": {},
   "source": [
    "# Python time Objects"
   ]
  },
  {
   "cell_type": "markdown",
   "metadata": {},
   "source": [
    "A time object represents a local time of day. Its arguments are- hour, minute, second, microsecond, and tzinfo."
   ]
  },
  {
   "cell_type": "code",
   "execution_count": 63,
   "metadata": {},
   "outputs": [
    {
     "name": "stdout",
     "output_type": "stream",
     "text": [
      "a= 00:00:00\n",
      "b= 23:34:50\n",
      "c= 11:34:56\n"
     ]
    }
   ],
   "source": [
    "# time object to represent time\n",
    "from datetime import time\n",
    "a = time()\n",
    "print(\"a=\",a)\n",
    "\n",
    "b = time(23,34,50)\n",
    "print(\"b=\",b)\n",
    "\n",
    "c = time(hour = 11, minute = 34, second = 56)\n",
    "print('c=', c)"
   ]
  },
  {
   "cell_type": "code",
   "execution_count": 64,
   "metadata": {
    "scrolled": true
   },
   "outputs": [
    {
     "name": "stdout",
     "output_type": "stream",
     "text": [
      "min= 00:00:00\n",
      "max= 23:59:59.999999\n",
      "resolution= 0:00:00.000001\n",
      "hour= 23\n",
      "mins= 55\n",
      "secs= 59\n",
      "usecs= 30\n",
      "tzinfo= None\n"
     ]
    }
   ],
   "source": [
    "# print min,max,resolution,hour,min,sec & usec\n",
    "from datetime import time\n",
    "\n",
    "a = time(23,55,59,30)\n",
    "print('min=', a.min)\n",
    "print('max=', a.max)\n",
    "print('resolution=', a.resolution)\n",
    "print('hour=',a.hour)\n",
    "print('mins=',a.minute)\n",
    "print('secs=',a.second)\n",
    "print('usecs=',a.microsecond)\n",
    "print('tzinfo=', a.tzinfo)\n"
   ]
  },
  {
   "cell_type": "code",
   "execution_count": null,
   "metadata": {},
   "outputs": [],
   "source": [
    "# instance methods\n",
    "from datetime import time\n",
    "\n",
    "# replace() = This does the same as for ‘date’ objects.\n",
    "a = time(23,55,59,30)\n",
    "a = a.replace(hour=12, second =30)\n",
    "print(a)\n",
    "print(type(a))\n",
    "\n",
    "# isoformat() = This method returns the time in the object in the ISO format.\n",
    "print(a.isoformat())\n",
    "\n",
    "# __str__() = This does the same as it does for ‘date’ objects.\n",
    "print(a.__str__())"
   ]
  },
  {
   "cell_type": "markdown",
   "metadata": {},
   "source": [
    "# Python datetime Objects"
   ]
  },
  {
   "cell_type": "markdown",
   "metadata": {},
   "source": [
    "A datetime objects knows about the date and the time. Arguments include year, month, day, hour, minute, second, microsecond, tzinfo.\n",
    "\n",
    "Note – Passing an argument other than integer will raise a TypeError and passign arguments outside the range will raise ValueError."
   ]
  },
  {
   "cell_type": "code",
   "execution_count": 65,
   "metadata": {},
   "outputs": [
    {
     "name": "stdout",
     "output_type": "stream",
     "text": [
      "2019-12-26 16:35:58.990143\n",
      "1996-02-10 00:00:00\n",
      "1996-02-10 12:44:50.100000\n"
     ]
    }
   ],
   "source": [
    "# datetime object\n",
    "from datetime import datetime\n",
    "\n",
    "z = datetime.today()\n",
    "print(z)\n",
    "\n",
    "a = datetime(1996, 2, 10)\n",
    "print(a)\n",
    "\n",
    "b = datetime(1996,2,10,12,44,50,100000)\n",
    "print(b)"
   ]
  },
  {
   "cell_type": "code",
   "execution_count": 71,
   "metadata": {},
   "outputs": [
    {
     "name": "stdout",
     "output_type": "stream",
     "text": [
      "2019-12-26 16:37:08.099388\n",
      "2019-12-26\n",
      "16:37:08.099388\n",
      "2019-12-26 16:37:08.099388+05:30\n",
      "time.struct_time(tm_year=2019, tm_mon=12, tm_mday=26, tm_hour=16, tm_min=37, tm_sec=8, tm_wday=3, tm_yday=360, tm_isdst=-1)\n",
      "time.struct_time(tm_year=2019, tm_mon=12, tm_mday=26, tm_hour=16, tm_min=37, tm_sec=8, tm_wday=3, tm_yday=360, tm_isdst=0)\n",
      "1577358428.099388\n"
     ]
    }
   ],
   "source": [
    "# instance methods\n",
    "from datetime import datetime\n",
    "\n",
    "d = datetime.today()\n",
    "print(d)\n",
    "\n",
    "# # date() = date() returns a date object from the datetime object.\n",
    "print(d.date())\n",
    "\n",
    "# #time() = time() returns a time object from the datetime object.\n",
    "print(d.time())\n",
    "\n",
    "# #astimezone() = This returns a datetime object with new tzinfo attribute tz, adjusting the date and time data so the result is the same UTC time as self, but in tz’s local time.\n",
    "print(d.astimezone())\n",
    "\n",
    "# #timetuple() = This returns a time tuple of the object.\n",
    "print(d.timetuple())\n",
    "\n",
    "# # utctimetuple() = This returns a time tuple of the UTC time.\n",
    "print(d.utctimetuple())\n",
    "\n",
    "# # timestamp() = This returns the timestamp of the object (in seconds).\n",
    "print(d.timestamp())"
   ]
  },
  {
   "cell_type": "markdown",
   "metadata": {},
   "source": [
    "# timedelta objects\n"
   ]
  },
  {
   "cell_type": "markdown",
   "metadata": {},
   "source": [
    "A timedelta object represents a duration, the difference between two dates or times.\n",
    "All arguments are optional and default to 0. Arguments may be ints, longs, or floats, and may be positive or negative.\n",
    "\n",
    "Only days, seconds and microseconds are stored internally"
   ]
  },
  {
   "cell_type": "code",
   "execution_count": 72,
   "metadata": {},
   "outputs": [
    {
     "name": "stdout",
     "output_type": "stream",
     "text": [
      "t3 = 201 days, 0:00:00\n",
      "t6 = -333 days, 1:14:20\n",
      "type of t3 = <class 'datetime.timedelta'>\n",
      "type of t6 = <class 'datetime.timedelta'>\n"
     ]
    }
   ],
   "source": [
    "# difference btwn 2 dates and times\n",
    "from datetime import date, datetime\n",
    "\n",
    "t1 = date(year = 2018, month = 7, day = 12)\n",
    "t2 = date(year = 2017, month = 12, day = 23)\n",
    "t3 = t1 - t2\n",
    "print(\"t3 =\", t3)\n",
    "\n",
    "t4 = datetime(year = 2018, month = 7, day = 12, hour = 7, minute = 9, second = 33)\n",
    "t5 = datetime(year = 2019, month = 6, day = 10, hour = 5, minute = 55, second = 13)\n",
    "t6 = t4 - t5\n",
    "print(\"t6 =\", t6)\n",
    "\n",
    "print(\"type of t3 =\", type(t3)) \n",
    "print(\"type of t6 =\", type(t6))"
   ]
  },
  {
   "cell_type": "code",
   "execution_count": 73,
   "metadata": {},
   "outputs": [
    {
     "name": "stdout",
     "output_type": "stream",
     "text": [
      "initial_date 2019-12-26 16:38:05.255764\n",
      "future_date_after_2yrs: 2021-12-25 16:38:05.255764\n",
      "future_date_after_2days: 2019-12-28 16:38:05.255764\n"
     ]
    }
   ],
   "source": [
    "# Timedelta function demonstration   \n",
    "    \n",
    "from datetime import datetime, timedelta  \n",
    "    \n",
    "    \n",
    "# Using current time  \n",
    "ini_time_for_now = datetime.now()\n",
    "    \n",
    "# printing initial_date  \n",
    "print (\"initial_date\", str(ini_time_for_now))  \n",
    "    \n",
    "# Calculating future dates  \n",
    "# for two years  \n",
    "future_date_after_2yrs = ini_time_for_now + timedelta(days = 730)  \n",
    "    \n",
    "future_date_after_2days = ini_time_for_now + timedelta(days = 2)  \n",
    "    \n",
    "# printing calculated future_dates  \n",
    "print('future_date_after_2yrs:', str(future_date_after_2yrs))  \n",
    "print('future_date_after_2days:', str(future_date_after_2days))  \n"
   ]
  },
  {
   "cell_type": "code",
   "execution_count": null,
   "metadata": {},
   "outputs": [],
   "source": [
    "# difference between two timedelta objects\n",
    "# class timedelta([days[, seconds[, microseconds[, milliseconds[, minutes[, hours[, weeks]]]]]]])\n",
    "\n",
    "from datetime import timedelta\n",
    "\n",
    "t0 = timedelta()\n",
    "print(\"t0=\", t0)\n",
    "t1 = timedelta(days = 5, hours = 1, seconds = 33)\n",
    "t2 = timedelta(days = 4, hours = 11, minutes = 4, seconds = 54)\n",
    "t3 = t1 - t2\n",
    "print(\"t3=\", t3)\n"
   ]
  },
  {
   "cell_type": "code",
   "execution_count": 85,
   "metadata": {},
   "outputs": [
    {
     "name": "stdout",
     "output_type": "stream",
     "text": [
      "t3= 0:00:21\n",
      "t3 = 0:00:21\n"
     ]
    }
   ],
   "source": [
    "# negative timedelta object\n",
    "\n",
    "from datetime import timedelta\n",
    "\n",
    "t1 = timedelta(seconds = 33)\n",
    "t2 = timedelta(seconds = 54)\n",
    "t3 = t2 - t1\n",
    "\n",
    "print(\"t3=\", t3)\n",
    "print(\"t3 =\", abs(t3))"
   ]
  },
  {
   "cell_type": "code",
   "execution_count": null,
   "metadata": {
    "scrolled": true
   },
   "outputs": [],
   "source": [
    "# time duration in seconds\n",
    "\n",
    "from datetime import timedelta\n",
    "\n",
    "t = timedelta(days = 5, hours = 1, seconds = 33, microseconds = 233423)\n",
    "print(\"total seconds =\", t.total_seconds())\n"
   ]
  },
  {
   "cell_type": "code",
   "execution_count": 78,
   "metadata": {
    "scrolled": true
   },
   "outputs": [
    {
     "name": "stdout",
     "output_type": "stream",
     "text": [
      "now= 2019-12-26 16:42:44.911376\n",
      "<class 'datetime.datetime'>\n",
      "time= 16:42:44\n",
      "<class 'str'>\n",
      "s1= 26/12/19, 16:42:44\n"
     ]
    }
   ],
   "source": [
    "# strftime() - Creates a string from a given date time object\n",
    "\n",
    "from datetime import datetime\n",
    "\n",
    "now = datetime.now()\n",
    "print(\"now=\", now)\n",
    "print(type(now))\n",
    "t = now.strftime(\"%H:%M:%S\")\n",
    "print(\"time=\", t)\n",
    "print(type(t))\n",
    "\n",
    "s1 = now.strftime(\"%d/%m/%y, %H:%M:%S\")\n",
    "print(\"s1=\", s1)"
   ]
  },
  {
   "cell_type": "code",
   "execution_count": 79,
   "metadata": {},
   "outputs": [
    {
     "name": "stdout",
     "output_type": "stream",
     "text": [
      "date_string = 21 June, 2018\n",
      "date_object= 2018-06-21 00:00:00\n"
     ]
    }
   ],
   "source": [
    "# strptime() - Creates a datetime object from a given string\n",
    "\n",
    "from datetime import datetime\n",
    "\n",
    "date_string = \"21 June, 2018\"\n",
    "print(\"date_string =\", date_string)\n",
    "\n",
    "      \n",
    "date_object = datetime.strptime(date_string,\"%d %B, %Y\")\n",
    "print(\"date_object=\",date_object )\n",
    "\n"
   ]
  },
  {
   "cell_type": "code",
   "execution_count": null,
   "metadata": {},
   "outputs": [],
   "source": [
    "# strptime() -2\n",
    "\n",
    "from datetime import datetime\n",
    "\n",
    "dt_string = \"12/11/2018 09:15:32\"\n",
    "\n",
    "dt_object1 = datetime.strptime(dt_string, \"%d/%m/%Y %H:%M:%S\")\n",
    "print(dt_object1)\n",
    "\n",
    "dt_object2 = datetime.strptime(dt_string, \"%m/%d/%Y %H:%M:%S\")\n",
    "print(dt_object2)"
   ]
  },
  {
   "cell_type": "code",
   "execution_count": null,
   "metadata": {},
   "outputs": [],
   "source": [
    "# value error in strptime()\n",
    "\n",
    "from datetime import datetime\n",
    "\n",
    "# date_string = \"12/11/2018\"\n",
    "date_object = datetime.strptime(date_string, \"%d %m %Y\")\n",
    "\n",
    "print(\"date_object =\", date_object)"
   ]
  },
  {
   "cell_type": "code",
   "execution_count": 82,
   "metadata": {},
   "outputs": [
    {
     "name": "stdout",
     "output_type": "stream",
     "text": [
      "2009-05-05 22:28:15\n",
      "2009-05-05 22:28:15 HMT+0553\n"
     ]
    }
   ],
   "source": [
    "# Add time zone information to a naive datetime object\n",
    "\n",
    "from datetime import datetime\n",
    "from pytz import timezone\n",
    "\n",
    "date_str = \"2009-05-05 22:28:15\"\n",
    "datetime_obj = datetime.strptime(date_str, \"%Y-%m-%d %H:%M:%S\")\n",
    "print(datetime_obj)\n",
    "datetime_obj_utc = datetime_obj.replace(tzinfo=timezone('Asia/Kolkata'))\n",
    "print(datetime_obj_utc.strftime(\"%Y-%m-%d %H:%M:%S %Z%z\"))\n",
    "\n"
   ]
  },
  {
   "cell_type": "code",
   "execution_count": 83,
   "metadata": {},
   "outputs": [
    {
     "name": "stdout",
     "output_type": "stream",
     "text": [
      "Local: 12/26/2019, 16:46:40\n",
      "NY: 12/26/2019, 06:16:40\n",
      "London: 12/26/2019, 11:16:40\n"
     ]
    }
   ],
   "source": [
    "# convert timezone\n",
    "\n",
    "from datetime import datetime\n",
    "from pytz import timezone\n",
    "\n",
    "local = datetime.now()\n",
    "print(\"Local:\", local.strftime(\"%m/%d/%Y, %H:%M:%S\"))\n",
    "\n",
    "tz_NY = timezone('America/New_York')\n",
    "#print(type(tz_NY))\n",
    "datetime_NY = datetime.now(tz_NY)\n",
    "print(\"NY:\", datetime_NY.strftime(\"%m/%d/%Y, %H:%M:%S\"))\n",
    "#print(type(datetime_NY))\n",
    "\n",
    "tz_London = timezone('Europe/London')\n",
    "datetime_London = datetime.now(tz_London)\n",
    "print(\"London:\", datetime_London.strftime(\"%m/%d/%Y, %H:%M:%S\"))"
   ]
  },
  {
   "cell_type": "code",
   "execution_count": 81,
   "metadata": {},
   "outputs": [
    {
     "data": {
      "text/plain": [
       "['Africa/Abidjan',\n",
       " 'Africa/Accra',\n",
       " 'Africa/Addis_Ababa',\n",
       " 'Africa/Algiers',\n",
       " 'Africa/Asmara',\n",
       " 'Africa/Asmera',\n",
       " 'Africa/Bamako',\n",
       " 'Africa/Bangui',\n",
       " 'Africa/Banjul',\n",
       " 'Africa/Bissau',\n",
       " 'Africa/Blantyre',\n",
       " 'Africa/Brazzaville',\n",
       " 'Africa/Bujumbura',\n",
       " 'Africa/Cairo',\n",
       " 'Africa/Casablanca',\n",
       " 'Africa/Ceuta',\n",
       " 'Africa/Conakry',\n",
       " 'Africa/Dakar',\n",
       " 'Africa/Dar_es_Salaam',\n",
       " 'Africa/Djibouti',\n",
       " 'Africa/Douala',\n",
       " 'Africa/El_Aaiun',\n",
       " 'Africa/Freetown',\n",
       " 'Africa/Gaborone',\n",
       " 'Africa/Harare',\n",
       " 'Africa/Johannesburg',\n",
       " 'Africa/Juba',\n",
       " 'Africa/Kampala',\n",
       " 'Africa/Khartoum',\n",
       " 'Africa/Kigali',\n",
       " 'Africa/Kinshasa',\n",
       " 'Africa/Lagos',\n",
       " 'Africa/Libreville',\n",
       " 'Africa/Lome',\n",
       " 'Africa/Luanda',\n",
       " 'Africa/Lubumbashi',\n",
       " 'Africa/Lusaka',\n",
       " 'Africa/Malabo',\n",
       " 'Africa/Maputo',\n",
       " 'Africa/Maseru',\n",
       " 'Africa/Mbabane',\n",
       " 'Africa/Mogadishu',\n",
       " 'Africa/Monrovia',\n",
       " 'Africa/Nairobi',\n",
       " 'Africa/Ndjamena',\n",
       " 'Africa/Niamey',\n",
       " 'Africa/Nouakchott',\n",
       " 'Africa/Ouagadougou',\n",
       " 'Africa/Porto-Novo',\n",
       " 'Africa/Sao_Tome',\n",
       " 'Africa/Timbuktu',\n",
       " 'Africa/Tripoli',\n",
       " 'Africa/Tunis',\n",
       " 'Africa/Windhoek',\n",
       " 'America/Adak',\n",
       " 'America/Anchorage',\n",
       " 'America/Anguilla',\n",
       " 'America/Antigua',\n",
       " 'America/Araguaina',\n",
       " 'America/Argentina/Buenos_Aires',\n",
       " 'America/Argentina/Catamarca',\n",
       " 'America/Argentina/ComodRivadavia',\n",
       " 'America/Argentina/Cordoba',\n",
       " 'America/Argentina/Jujuy',\n",
       " 'America/Argentina/La_Rioja',\n",
       " 'America/Argentina/Mendoza',\n",
       " 'America/Argentina/Rio_Gallegos',\n",
       " 'America/Argentina/Salta',\n",
       " 'America/Argentina/San_Juan',\n",
       " 'America/Argentina/San_Luis',\n",
       " 'America/Argentina/Tucuman',\n",
       " 'America/Argentina/Ushuaia',\n",
       " 'America/Aruba',\n",
       " 'America/Asuncion',\n",
       " 'America/Atikokan',\n",
       " 'America/Atka',\n",
       " 'America/Bahia',\n",
       " 'America/Bahia_Banderas',\n",
       " 'America/Barbados',\n",
       " 'America/Belem',\n",
       " 'America/Belize',\n",
       " 'America/Blanc-Sablon',\n",
       " 'America/Boa_Vista',\n",
       " 'America/Bogota',\n",
       " 'America/Boise',\n",
       " 'America/Buenos_Aires',\n",
       " 'America/Cambridge_Bay',\n",
       " 'America/Campo_Grande',\n",
       " 'America/Cancun',\n",
       " 'America/Caracas',\n",
       " 'America/Catamarca',\n",
       " 'America/Cayenne',\n",
       " 'America/Cayman',\n",
       " 'America/Chicago',\n",
       " 'America/Chihuahua',\n",
       " 'America/Coral_Harbour',\n",
       " 'America/Cordoba',\n",
       " 'America/Costa_Rica',\n",
       " 'America/Creston',\n",
       " 'America/Cuiaba',\n",
       " 'America/Curacao',\n",
       " 'America/Danmarkshavn',\n",
       " 'America/Dawson',\n",
       " 'America/Dawson_Creek',\n",
       " 'America/Denver',\n",
       " 'America/Detroit',\n",
       " 'America/Dominica',\n",
       " 'America/Edmonton',\n",
       " 'America/Eirunepe',\n",
       " 'America/El_Salvador',\n",
       " 'America/Ensenada',\n",
       " 'America/Fort_Nelson',\n",
       " 'America/Fort_Wayne',\n",
       " 'America/Fortaleza',\n",
       " 'America/Glace_Bay',\n",
       " 'America/Godthab',\n",
       " 'America/Goose_Bay',\n",
       " 'America/Grand_Turk',\n",
       " 'America/Grenada',\n",
       " 'America/Guadeloupe',\n",
       " 'America/Guatemala',\n",
       " 'America/Guayaquil',\n",
       " 'America/Guyana',\n",
       " 'America/Halifax',\n",
       " 'America/Havana',\n",
       " 'America/Hermosillo',\n",
       " 'America/Indiana/Indianapolis',\n",
       " 'America/Indiana/Knox',\n",
       " 'America/Indiana/Marengo',\n",
       " 'America/Indiana/Petersburg',\n",
       " 'America/Indiana/Tell_City',\n",
       " 'America/Indiana/Vevay',\n",
       " 'America/Indiana/Vincennes',\n",
       " 'America/Indiana/Winamac',\n",
       " 'America/Indianapolis',\n",
       " 'America/Inuvik',\n",
       " 'America/Iqaluit',\n",
       " 'America/Jamaica',\n",
       " 'America/Jujuy',\n",
       " 'America/Juneau',\n",
       " 'America/Kentucky/Louisville',\n",
       " 'America/Kentucky/Monticello',\n",
       " 'America/Knox_IN',\n",
       " 'America/Kralendijk',\n",
       " 'America/La_Paz',\n",
       " 'America/Lima',\n",
       " 'America/Los_Angeles',\n",
       " 'America/Louisville',\n",
       " 'America/Lower_Princes',\n",
       " 'America/Maceio',\n",
       " 'America/Managua',\n",
       " 'America/Manaus',\n",
       " 'America/Marigot',\n",
       " 'America/Martinique',\n",
       " 'America/Matamoros',\n",
       " 'America/Mazatlan',\n",
       " 'America/Mendoza',\n",
       " 'America/Menominee',\n",
       " 'America/Merida',\n",
       " 'America/Metlakatla',\n",
       " 'America/Mexico_City',\n",
       " 'America/Miquelon',\n",
       " 'America/Moncton',\n",
       " 'America/Monterrey',\n",
       " 'America/Montevideo',\n",
       " 'America/Montreal',\n",
       " 'America/Montserrat',\n",
       " 'America/Nassau',\n",
       " 'America/New_York',\n",
       " 'America/Nipigon',\n",
       " 'America/Nome',\n",
       " 'America/Noronha',\n",
       " 'America/North_Dakota/Beulah',\n",
       " 'America/North_Dakota/Center',\n",
       " 'America/North_Dakota/New_Salem',\n",
       " 'America/Ojinaga',\n",
       " 'America/Panama',\n",
       " 'America/Pangnirtung',\n",
       " 'America/Paramaribo',\n",
       " 'America/Phoenix',\n",
       " 'America/Port-au-Prince',\n",
       " 'America/Port_of_Spain',\n",
       " 'America/Porto_Acre',\n",
       " 'America/Porto_Velho',\n",
       " 'America/Puerto_Rico',\n",
       " 'America/Punta_Arenas',\n",
       " 'America/Rainy_River',\n",
       " 'America/Rankin_Inlet',\n",
       " 'America/Recife',\n",
       " 'America/Regina',\n",
       " 'America/Resolute',\n",
       " 'America/Rio_Branco',\n",
       " 'America/Rosario',\n",
       " 'America/Santa_Isabel',\n",
       " 'America/Santarem',\n",
       " 'America/Santiago',\n",
       " 'America/Santo_Domingo',\n",
       " 'America/Sao_Paulo',\n",
       " 'America/Scoresbysund',\n",
       " 'America/Shiprock',\n",
       " 'America/Sitka',\n",
       " 'America/St_Barthelemy',\n",
       " 'America/St_Johns',\n",
       " 'America/St_Kitts',\n",
       " 'America/St_Lucia',\n",
       " 'America/St_Thomas',\n",
       " 'America/St_Vincent',\n",
       " 'America/Swift_Current',\n",
       " 'America/Tegucigalpa',\n",
       " 'America/Thule',\n",
       " 'America/Thunder_Bay',\n",
       " 'America/Tijuana',\n",
       " 'America/Toronto',\n",
       " 'America/Tortola',\n",
       " 'America/Vancouver',\n",
       " 'America/Virgin',\n",
       " 'America/Whitehorse',\n",
       " 'America/Winnipeg',\n",
       " 'America/Yakutat',\n",
       " 'America/Yellowknife',\n",
       " 'Antarctica/Casey',\n",
       " 'Antarctica/Davis',\n",
       " 'Antarctica/DumontDUrville',\n",
       " 'Antarctica/Macquarie',\n",
       " 'Antarctica/Mawson',\n",
       " 'Antarctica/McMurdo',\n",
       " 'Antarctica/Palmer',\n",
       " 'Antarctica/Rothera',\n",
       " 'Antarctica/South_Pole',\n",
       " 'Antarctica/Syowa',\n",
       " 'Antarctica/Troll',\n",
       " 'Antarctica/Vostok',\n",
       " 'Arctic/Longyearbyen',\n",
       " 'Asia/Aden',\n",
       " 'Asia/Almaty',\n",
       " 'Asia/Amman',\n",
       " 'Asia/Anadyr',\n",
       " 'Asia/Aqtau',\n",
       " 'Asia/Aqtobe',\n",
       " 'Asia/Ashgabat',\n",
       " 'Asia/Ashkhabad',\n",
       " 'Asia/Atyrau',\n",
       " 'Asia/Baghdad',\n",
       " 'Asia/Bahrain',\n",
       " 'Asia/Baku',\n",
       " 'Asia/Bangkok',\n",
       " 'Asia/Barnaul',\n",
       " 'Asia/Beirut',\n",
       " 'Asia/Bishkek',\n",
       " 'Asia/Brunei',\n",
       " 'Asia/Calcutta',\n",
       " 'Asia/Chita',\n",
       " 'Asia/Choibalsan',\n",
       " 'Asia/Chongqing',\n",
       " 'Asia/Chungking',\n",
       " 'Asia/Colombo',\n",
       " 'Asia/Dacca',\n",
       " 'Asia/Damascus',\n",
       " 'Asia/Dhaka',\n",
       " 'Asia/Dili',\n",
       " 'Asia/Dubai',\n",
       " 'Asia/Dushanbe',\n",
       " 'Asia/Famagusta',\n",
       " 'Asia/Gaza',\n",
       " 'Asia/Harbin',\n",
       " 'Asia/Hebron',\n",
       " 'Asia/Ho_Chi_Minh',\n",
       " 'Asia/Hong_Kong',\n",
       " 'Asia/Hovd',\n",
       " 'Asia/Irkutsk',\n",
       " 'Asia/Istanbul',\n",
       " 'Asia/Jakarta',\n",
       " 'Asia/Jayapura',\n",
       " 'Asia/Jerusalem',\n",
       " 'Asia/Kabul',\n",
       " 'Asia/Kamchatka',\n",
       " 'Asia/Karachi',\n",
       " 'Asia/Kashgar',\n",
       " 'Asia/Kathmandu',\n",
       " 'Asia/Katmandu',\n",
       " 'Asia/Khandyga',\n",
       " 'Asia/Kolkata',\n",
       " 'Asia/Krasnoyarsk',\n",
       " 'Asia/Kuala_Lumpur',\n",
       " 'Asia/Kuching',\n",
       " 'Asia/Kuwait',\n",
       " 'Asia/Macao',\n",
       " 'Asia/Macau',\n",
       " 'Asia/Magadan',\n",
       " 'Asia/Makassar',\n",
       " 'Asia/Manila',\n",
       " 'Asia/Muscat',\n",
       " 'Asia/Nicosia',\n",
       " 'Asia/Novokuznetsk',\n",
       " 'Asia/Novosibirsk',\n",
       " 'Asia/Omsk',\n",
       " 'Asia/Oral',\n",
       " 'Asia/Phnom_Penh',\n",
       " 'Asia/Pontianak',\n",
       " 'Asia/Pyongyang',\n",
       " 'Asia/Qatar',\n",
       " 'Asia/Qyzylorda',\n",
       " 'Asia/Rangoon',\n",
       " 'Asia/Riyadh',\n",
       " 'Asia/Saigon',\n",
       " 'Asia/Sakhalin',\n",
       " 'Asia/Samarkand',\n",
       " 'Asia/Seoul',\n",
       " 'Asia/Shanghai',\n",
       " 'Asia/Singapore',\n",
       " 'Asia/Srednekolymsk',\n",
       " 'Asia/Taipei',\n",
       " 'Asia/Tashkent',\n",
       " 'Asia/Tbilisi',\n",
       " 'Asia/Tehran',\n",
       " 'Asia/Tel_Aviv',\n",
       " 'Asia/Thimbu',\n",
       " 'Asia/Thimphu',\n",
       " 'Asia/Tokyo',\n",
       " 'Asia/Tomsk',\n",
       " 'Asia/Ujung_Pandang',\n",
       " 'Asia/Ulaanbaatar',\n",
       " 'Asia/Ulan_Bator',\n",
       " 'Asia/Urumqi',\n",
       " 'Asia/Ust-Nera',\n",
       " 'Asia/Vientiane',\n",
       " 'Asia/Vladivostok',\n",
       " 'Asia/Yakutsk',\n",
       " 'Asia/Yangon',\n",
       " 'Asia/Yekaterinburg',\n",
       " 'Asia/Yerevan',\n",
       " 'Atlantic/Azores',\n",
       " 'Atlantic/Bermuda',\n",
       " 'Atlantic/Canary',\n",
       " 'Atlantic/Cape_Verde',\n",
       " 'Atlantic/Faeroe',\n",
       " 'Atlantic/Faroe',\n",
       " 'Atlantic/Jan_Mayen',\n",
       " 'Atlantic/Madeira',\n",
       " 'Atlantic/Reykjavik',\n",
       " 'Atlantic/South_Georgia',\n",
       " 'Atlantic/St_Helena',\n",
       " 'Atlantic/Stanley',\n",
       " 'Australia/ACT',\n",
       " 'Australia/Adelaide',\n",
       " 'Australia/Brisbane',\n",
       " 'Australia/Broken_Hill',\n",
       " 'Australia/Canberra',\n",
       " 'Australia/Currie',\n",
       " 'Australia/Darwin',\n",
       " 'Australia/Eucla',\n",
       " 'Australia/Hobart',\n",
       " 'Australia/LHI',\n",
       " 'Australia/Lindeman',\n",
       " 'Australia/Lord_Howe',\n",
       " 'Australia/Melbourne',\n",
       " 'Australia/NSW',\n",
       " 'Australia/North',\n",
       " 'Australia/Perth',\n",
       " 'Australia/Queensland',\n",
       " 'Australia/South',\n",
       " 'Australia/Sydney',\n",
       " 'Australia/Tasmania',\n",
       " 'Australia/Victoria',\n",
       " 'Australia/West',\n",
       " 'Australia/Yancowinna',\n",
       " 'Brazil/Acre',\n",
       " 'Brazil/DeNoronha',\n",
       " 'Brazil/East',\n",
       " 'Brazil/West',\n",
       " 'CET',\n",
       " 'CST6CDT',\n",
       " 'Canada/Atlantic',\n",
       " 'Canada/Central',\n",
       " 'Canada/Eastern',\n",
       " 'Canada/Mountain',\n",
       " 'Canada/Newfoundland',\n",
       " 'Canada/Pacific',\n",
       " 'Canada/Saskatchewan',\n",
       " 'Canada/Yukon',\n",
       " 'Chile/Continental',\n",
       " 'Chile/EasterIsland',\n",
       " 'Cuba',\n",
       " 'EET',\n",
       " 'EST',\n",
       " 'EST5EDT',\n",
       " 'Egypt',\n",
       " 'Eire',\n",
       " 'Etc/GMT',\n",
       " 'Etc/GMT+0',\n",
       " 'Etc/GMT+1',\n",
       " 'Etc/GMT+10',\n",
       " 'Etc/GMT+11',\n",
       " 'Etc/GMT+12',\n",
       " 'Etc/GMT+2',\n",
       " 'Etc/GMT+3',\n",
       " 'Etc/GMT+4',\n",
       " 'Etc/GMT+5',\n",
       " 'Etc/GMT+6',\n",
       " 'Etc/GMT+7',\n",
       " 'Etc/GMT+8',\n",
       " 'Etc/GMT+9',\n",
       " 'Etc/GMT-0',\n",
       " 'Etc/GMT-1',\n",
       " 'Etc/GMT-10',\n",
       " 'Etc/GMT-11',\n",
       " 'Etc/GMT-12',\n",
       " 'Etc/GMT-13',\n",
       " 'Etc/GMT-14',\n",
       " 'Etc/GMT-2',\n",
       " 'Etc/GMT-3',\n",
       " 'Etc/GMT-4',\n",
       " 'Etc/GMT-5',\n",
       " 'Etc/GMT-6',\n",
       " 'Etc/GMT-7',\n",
       " 'Etc/GMT-8',\n",
       " 'Etc/GMT-9',\n",
       " 'Etc/GMT0',\n",
       " 'Etc/Greenwich',\n",
       " 'Etc/UCT',\n",
       " 'Etc/UTC',\n",
       " 'Etc/Universal',\n",
       " 'Etc/Zulu',\n",
       " 'Europe/Amsterdam',\n",
       " 'Europe/Andorra',\n",
       " 'Europe/Astrakhan',\n",
       " 'Europe/Athens',\n",
       " 'Europe/Belfast',\n",
       " 'Europe/Belgrade',\n",
       " 'Europe/Berlin',\n",
       " 'Europe/Bratislava',\n",
       " 'Europe/Brussels',\n",
       " 'Europe/Bucharest',\n",
       " 'Europe/Budapest',\n",
       " 'Europe/Busingen',\n",
       " 'Europe/Chisinau',\n",
       " 'Europe/Copenhagen',\n",
       " 'Europe/Dublin',\n",
       " 'Europe/Gibraltar',\n",
       " 'Europe/Guernsey',\n",
       " 'Europe/Helsinki',\n",
       " 'Europe/Isle_of_Man',\n",
       " 'Europe/Istanbul',\n",
       " 'Europe/Jersey',\n",
       " 'Europe/Kaliningrad',\n",
       " 'Europe/Kiev',\n",
       " 'Europe/Kirov',\n",
       " 'Europe/Lisbon',\n",
       " 'Europe/Ljubljana',\n",
       " 'Europe/London',\n",
       " 'Europe/Luxembourg',\n",
       " 'Europe/Madrid',\n",
       " 'Europe/Malta',\n",
       " 'Europe/Mariehamn',\n",
       " 'Europe/Minsk',\n",
       " 'Europe/Monaco',\n",
       " 'Europe/Moscow',\n",
       " 'Europe/Nicosia',\n",
       " 'Europe/Oslo',\n",
       " 'Europe/Paris',\n",
       " 'Europe/Podgorica',\n",
       " 'Europe/Prague',\n",
       " 'Europe/Riga',\n",
       " 'Europe/Rome',\n",
       " 'Europe/Samara',\n",
       " 'Europe/San_Marino',\n",
       " 'Europe/Sarajevo',\n",
       " 'Europe/Saratov',\n",
       " 'Europe/Simferopol',\n",
       " 'Europe/Skopje',\n",
       " 'Europe/Sofia',\n",
       " 'Europe/Stockholm',\n",
       " 'Europe/Tallinn',\n",
       " 'Europe/Tirane',\n",
       " 'Europe/Tiraspol',\n",
       " 'Europe/Ulyanovsk',\n",
       " 'Europe/Uzhgorod',\n",
       " 'Europe/Vaduz',\n",
       " 'Europe/Vatican',\n",
       " 'Europe/Vienna',\n",
       " 'Europe/Vilnius',\n",
       " 'Europe/Volgograd',\n",
       " 'Europe/Warsaw',\n",
       " 'Europe/Zagreb',\n",
       " 'Europe/Zaporozhye',\n",
       " 'Europe/Zurich',\n",
       " 'GB',\n",
       " 'GB-Eire',\n",
       " 'GMT',\n",
       " 'GMT+0',\n",
       " 'GMT-0',\n",
       " 'GMT0',\n",
       " 'Greenwich',\n",
       " 'HST',\n",
       " 'Hongkong',\n",
       " 'Iceland',\n",
       " 'Indian/Antananarivo',\n",
       " 'Indian/Chagos',\n",
       " 'Indian/Christmas',\n",
       " 'Indian/Cocos',\n",
       " 'Indian/Comoro',\n",
       " 'Indian/Kerguelen',\n",
       " 'Indian/Mahe',\n",
       " 'Indian/Maldives',\n",
       " 'Indian/Mauritius',\n",
       " 'Indian/Mayotte',\n",
       " 'Indian/Reunion',\n",
       " 'Iran',\n",
       " 'Israel',\n",
       " 'Jamaica',\n",
       " 'Japan',\n",
       " 'Kwajalein',\n",
       " 'Libya',\n",
       " 'MET',\n",
       " 'MST',\n",
       " 'MST7MDT',\n",
       " 'Mexico/BajaNorte',\n",
       " 'Mexico/BajaSur',\n",
       " 'Mexico/General',\n",
       " 'NZ',\n",
       " 'NZ-CHAT',\n",
       " 'Navajo',\n",
       " 'PRC',\n",
       " 'PST8PDT',\n",
       " 'Pacific/Apia',\n",
       " 'Pacific/Auckland',\n",
       " 'Pacific/Bougainville',\n",
       " 'Pacific/Chatham',\n",
       " 'Pacific/Chuuk',\n",
       " 'Pacific/Easter',\n",
       " 'Pacific/Efate',\n",
       " 'Pacific/Enderbury',\n",
       " 'Pacific/Fakaofo',\n",
       " 'Pacific/Fiji',\n",
       " 'Pacific/Funafuti',\n",
       " 'Pacific/Galapagos',\n",
       " 'Pacific/Gambier',\n",
       " 'Pacific/Guadalcanal',\n",
       " 'Pacific/Guam',\n",
       " 'Pacific/Honolulu',\n",
       " 'Pacific/Johnston',\n",
       " 'Pacific/Kiritimati',\n",
       " 'Pacific/Kosrae',\n",
       " 'Pacific/Kwajalein',\n",
       " 'Pacific/Majuro',\n",
       " 'Pacific/Marquesas',\n",
       " 'Pacific/Midway',\n",
       " 'Pacific/Nauru',\n",
       " 'Pacific/Niue',\n",
       " 'Pacific/Norfolk',\n",
       " 'Pacific/Noumea',\n",
       " 'Pacific/Pago_Pago',\n",
       " 'Pacific/Palau',\n",
       " 'Pacific/Pitcairn',\n",
       " 'Pacific/Pohnpei',\n",
       " 'Pacific/Ponape',\n",
       " 'Pacific/Port_Moresby',\n",
       " 'Pacific/Rarotonga',\n",
       " 'Pacific/Saipan',\n",
       " 'Pacific/Samoa',\n",
       " 'Pacific/Tahiti',\n",
       " 'Pacific/Tarawa',\n",
       " 'Pacific/Tongatapu',\n",
       " 'Pacific/Truk',\n",
       " 'Pacific/Wake',\n",
       " 'Pacific/Wallis',\n",
       " 'Pacific/Yap',\n",
       " 'Poland',\n",
       " 'Portugal',\n",
       " 'ROC',\n",
       " 'ROK',\n",
       " 'Singapore',\n",
       " 'Turkey',\n",
       " 'UCT',\n",
       " 'US/Alaska',\n",
       " 'US/Aleutian',\n",
       " 'US/Arizona',\n",
       " 'US/Central',\n",
       " 'US/East-Indiana',\n",
       " 'US/Eastern',\n",
       " 'US/Hawaii',\n",
       " 'US/Indiana-Starke',\n",
       " 'US/Michigan',\n",
       " 'US/Mountain',\n",
       " 'US/Pacific',\n",
       " 'US/Samoa',\n",
       " 'UTC',\n",
       " 'Universal',\n",
       " 'W-SU',\n",
       " 'WET',\n",
       " 'Zulu']"
      ]
     },
     "execution_count": 81,
     "metadata": {},
     "output_type": "execute_result"
    }
   ],
   "source": [
    "# list all timezones\n",
    "import pytz\n",
    "\n",
    "pytz.all_timezones\n"
   ]
  }
 ],
 "metadata": {
  "kernelspec": {
   "display_name": "Python 3",
   "language": "python",
   "name": "python3"
  },
  "language_info": {
   "codemirror_mode": {
    "name": "ipython",
    "version": 3
   },
   "file_extension": ".py",
   "mimetype": "text/x-python",
   "name": "python",
   "nbconvert_exporter": "python",
   "pygments_lexer": "ipython3",
   "version": "3.8.0"
  }
 },
 "nbformat": 4,
 "nbformat_minor": 2
}
